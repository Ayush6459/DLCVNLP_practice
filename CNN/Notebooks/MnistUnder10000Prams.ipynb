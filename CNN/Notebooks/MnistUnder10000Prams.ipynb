{
  "nbformat": 4,
  "nbformat_minor": 0,
  "metadata": {
    "colab": {
      "name": "MnistUnder10000Prams.ipynb",
      "private_outputs": true,
      "provenance": [],
      "include_colab_link": true
    },
    "kernelspec": {
      "name": "python3",
      "display_name": "Python 3"
    },
    "language_info": {
      "name": "python"
    },
    "accelerator": "GPU"
  },
  "cells": [
    {
      "cell_type": "markdown",
      "metadata": {
        "id": "view-in-github",
        "colab_type": "text"
      },
      "source": [
        "<a href=\"https://colab.research.google.com/github/Ayush6459/DLCVNLP_practice/blob/master/CNN/Notebooks/MnistUnder10000Prams.ipynb\" target=\"_parent\"><img src=\"https://colab.research.google.com/assets/colab-badge.svg\" alt=\"Open In Colab\"/></a>"
      ]
    },
    {
      "cell_type": "code",
      "metadata": {
        "id": "Jx5l4q11k7FN"
      },
      "source": [
        "# importing the important packages \n",
        "import numpy as np\n",
        "\n",
        "# importing sequential model from keras.models\n",
        "from tensorflow.keras.models import Sequential\n",
        "# importing different layers and activations from keras.layers\n",
        "from tensorflow.keras.layers import Dense, Dropout, Activation, Flatten, Add\n",
        "from tensorflow.keras.layers import Convolution2D, MaxPooling2D\n",
        "# importing np_utils from keras.utils\n",
        "from tensorflow.keras.utils import to_categorical\n",
        "\n",
        "# importing the mnist dataset from keras.datasets \n",
        "from tensorflow.keras.datasets import mnist"
      ],
      "execution_count": null,
      "outputs": []
    },
    {
      "cell_type": "markdown",
      "metadata": {
        "id": "MHFJspggmWQJ"
      },
      "source": [
        "## load preshuffled Mnist data into train and test set\n"
      ]
    },
    {
      "cell_type": "code",
      "metadata": {
        "id": "3yg1ZVwKl9XC"
      },
      "source": [
        "# we are downloading the MNIST dataset and splitting the data for training and testing\n",
        "(X_train, y_train), (X_test, y_test) = mnist.load_data()"
      ],
      "execution_count": null,
      "outputs": []
    },
    {
      "cell_type": "code",
      "metadata": {
        "id": "FZI0cRuhmion"
      },
      "source": [
        "# printing out the shape of x_train\n",
        "print (X_train.shape)\n",
        "\n",
        "# importing pyplot with alias plt from matplotlib package\n",
        "from matplotlib import pyplot as plt\n",
        "# %matplotlib inline is a magic function to show us the plots in a notebook\n",
        "%matplotlib inline\n",
        "# plotting the first image or the image at index zero in the training dataset\n",
        "plt.imshow(X_train[0])"
      ],
      "execution_count": null,
      "outputs": []
    },
    {
      "cell_type": "code",
      "metadata": {
        "id": "6h0CyS5Umlnb"
      },
      "source": [
        "#Reshaping our training and testing datatset using numpy's reshape function which we will feed to the model\n",
        "X_train = X_train.reshape(X_train.shape[0], 28, 28,1)\n",
        "X_test = X_test.reshape(X_test.shape[0], 28, 28,1)"
      ],
      "execution_count": null,
      "outputs": []
    },
    {
      "cell_type": "code",
      "metadata": {
        "id": "dc4Mg2F-mqdF"
      },
      "source": [
        "#Checking first 10 image labels\n",
        "y_train[:10]"
      ],
      "execution_count": null,
      "outputs": []
    },
    {
      "cell_type": "code",
      "metadata": {
        "id": "EHfF-LsJmuIf"
      },
      "source": [
        "# Convert 1-dimensional class arrays to 10-dimensional class matrices\n",
        "# simply we can say we are doing sort of onehot encoding\n",
        "Y_train = to_categorical(y_train, 10)\n",
        "Y_test = to_categorical(y_test, 10)"
      ],
      "execution_count": null,
      "outputs": []
    },
    {
      "cell_type": "code",
      "metadata": {
        "id": "y-3qyJjRm0k9"
      },
      "source": [
        "# having a look in the first 10 datapoints after onehot encoding\n",
        "Y_train[:10]"
      ],
      "execution_count": null,
      "outputs": []
    },
    {
      "cell_type": "code",
      "metadata": {
        "id": "rffcjpaIm32k"
      },
      "source": [
        "# importing Activation, BatchNormalization and MaxPooling2D from keras.layers for performing maxpooling and batchnormalizing operations and adding non linearity via activation functions\n",
        "from tensorflow.keras.layers import Activation,BatchNormalization\n",
        "# building our sequential model using the Sequential class and creating the model object\n",
        "model = Sequential()\n",
        "# Performing 2dconvolution followed by BatchNormalization and Dropout\n",
        "model.add(Convolution2D(10, 3, activation='relu', input_shape=(28,28,1))) # channel dimensions = 26x26x10    and Receptive field = 3x3\n",
        "model.add(BatchNormalization())\n",
        "model.add(Dropout(0.1))\n",
        "\n",
        "# Performing 2dconvolution followed by BatchNormalization and Dropout        \n",
        "model.add(Convolution2D(16, 3, activation='relu'))                        # channel dimensions = 24x24x16    and Receptive field = 5x5\n",
        "model.add(BatchNormalization())\n",
        "model.add(Dropout(0.1))\n",
        "\n",
        "# performing 2d convolution followed by BatchNormalization and Dropout \n",
        "model.add(Convolution2D(16,3,activation='relu'))                           # C_D = 22x22x16 & R_F = 7x7\n",
        "model.add(BatchNormalization())\n",
        "model.add(Dropout(0.1))\n",
        "model.add(MaxPooling2D(pool_size=(2,2)))\n"
      ],
      "execution_count": null,
      "outputs": []
    },
    {
      "cell_type": "code",
      "metadata": {
        "id": "sL4pmEtLnI8Y"
      },
      "source": [
        "# importing Activation, BatchNormalization and MaxPooling2D from keras.layers for performing maxpooling and batchnormalizing operations and adding non linearity via activation functions\n",
        "from tensorflow.keras.layers import Activation,BatchNormalization\n",
        "# building our sequential model using the Sequential class and creating the model object\n",
        "model = Sequential()\n",
        "# Performing 2dconvolution followed by BatchNormalization and Dropout\n",
        "model.add(Convolution2D(10, 3, activation='relu', input_shape=(28,28,1))) # channel dimensions = 26x26x10    and Receptive field = 3x3\n",
        "model.add(BatchNormalization())\n",
        "model.add(Dropout(0.1))\n",
        "print(model.output_shape)\n",
        "# Performing 2dconvolution followed by BatchNormalization and Dropout        \n",
        "model.add(Convolution2D(16, 3, activation='relu'))                        # channel dimensions = 24x24x16    and Receptive field = 5x5\n",
        "model.add(BatchNormalization())\n",
        "model.add(Dropout(0.1))\n",
        "\n",
        "# Performing 2dconvolution followed Maxpoooling operation\n",
        "model.add(Convolution2D(10, 1, activation='relu')) #24                    # channel dimensions = 24x24x10    and Receptive field = 7x7 using 1x1 kernel\n",
        "model.add(MaxPooling2D(pool_size=(2, 2)))#12                                 # channel dimensions = 12x12x10    and Receptive field = 14x14\n",
        "\n",
        "# Performing 2dconvolution followed by BatchNormalization and Dropout\n",
        "model.add(Convolution2D(16, 3, activation='relu'))#10                     # channel dimensions = 10x10x16    and Receptive field = 16x16\n",
        "model.add(BatchNormalization())\n",
        "model.add(Dropout(0.1))\n",
        "\n",
        "# Performing 2dconvolution followed by BatchNormalization and Dropout\n",
        "model.add(Convolution2D(16, 3, activation='relu'))#8                      # channel dimensions = 8x8x16    and Receptive field = 18x18\n",
        "model.add(BatchNormalization())\n",
        "model.add(Dropout(0.1))\n",
        "\n",
        "# Performing 2dconvolution followed by BatchNormalization and Dropout\n",
        "model.add(Convolution2D(16, 3, activation='relu'))#6                      # channel dimensions = 6x6x16    and Receptive field = 20x20\n",
        "model.add(BatchNormalization())\n",
        "model.add(Dropout(0.1))\n",
        "\n",
        "# Performing 2dconvolution followed by BatchNormalization and Dropout\n",
        "model.add(Convolution2D(16, 3, activation='relu'))#4                      # channel dimensions = 4x4x16    and Receptive field = 22x22\n",
        "model.add(BatchNormalization())\n",
        "model.add(Dropout(0.1))\n",
        "\n",
        "# Performing only 2dconvolution at the last convolution layer(no batchnormalization and dropout)\n",
        "model.add(Convolution2D(10, 4))                                           # using 4x4 kernel to see the complete image\n",
        "\n",
        "# Here we are Flateening our dat i.e making it one dimensional which we will feed to the network.\n",
        "model.add(Flatten())\n",
        "#Using softmax activation function at the last layer which is used for multi class classification\n",
        "model.add(Activation('softmax'))"
      ],
      "execution_count": null,
      "outputs": []
    },
    {
      "cell_type": "code",
      "metadata": {
        "id": "sbeHY_JgygDy"
      },
      "source": [
        "model.summary()"
      ],
      "execution_count": null,
      "outputs": []
    },
    {
      "cell_type": "code",
      "metadata": {
        "id": "qULjBIoCyj0p"
      },
      "source": [
        "model.output_shape"
      ],
      "execution_count": null,
      "outputs": []
    },
    {
      "cell_type": "code",
      "metadata": {
        "id": "JEpuGKBOzP9u"
      },
      "source": [
        "# We are importing the Adam Optimizer\n",
        "from tensorflow.keras.optimizers import Adam\n",
        "\n",
        "# We are importing the learningratescheduler callback\n",
        "from tensorflow.keras.callbacks import LearningRateScheduler\n",
        "#Creating the \"scheduler\" function with two arguments i.e learningrate and epoch\n",
        "def scheduler(epoch, lr):\n",
        "  return round(0.003 * 1/(1 + 0.319 * epoch), 10)\n",
        "\n",
        "#\tLearningRate = LearningRate * 1/(1 + decay * epoch) here decay is 0.319 and epoch is 10.\n",
        "\n",
        "# here we are compiling our model and using 'categorical_crossentropy' as our loss function and adam as our optimizer with learning rate =0.003 and metrics is accuracy\n",
        "model.compile(loss='categorical_crossentropy', optimizer=Adam(lr=0.003), metrics=['accuracy'])\n",
        "\n",
        "# Here we are traing our model using the data and using batch size of 128,number of epochs are 20 and using verbose=1 for printing out all the results.\n",
        "# In the callbacks parameter we are using the LearningRateScheduler which takes two arguments scheduler function which we built earlier to reduce the learning rate in each decay and verbose =1\n",
        "model.fit(X_train, Y_train, batch_size=128, epochs=20, verbose=1, validation_data=(X_test, Y_test), callbacks=[LearningRateScheduler(scheduler, verbose=1)])"
      ],
      "execution_count": null,
      "outputs": []
    },
    {
      "cell_type": "code",
      "metadata": {
        "id": "DHzx7Vt20ZVI"
      },
      "source": [
        "# importing Activation, BatchNormalization and MaxPooling2D from keras.layers for performing maxpooling and batchnormalizing operations and adding non linearity via activation functions\n",
        "from tensorflow.keras.layers import Activation,BatchNormalization\n",
        "# building our sequential model using the Sequential class and creating the model object\n",
        "model = Sequential()\n",
        "# Performing 2dconvolution followed by BatchNormalization and Dropout\n",
        "model.add(Convolution2D(10, 3, activation='relu', input_shape=(28,28,1))) # channel dimensions = 26x26x10    and Receptive field = 3x3\n",
        "model.add(BatchNormalization())\n",
        "model.add(Dropout(0.1))\n",
        "print(model.output_shape)\n",
        "# Performing 2dconvolution followed by BatchNormalization and Dropout        \n",
        "model.add(Convolution2D(16, 3, activation='relu'))                        # channel dimensions = 24x24x16    and Receptive field = 5x5\n",
        "model.add(BatchNormalization())\n",
        "model.add(Dropout(0.1))\n",
        "\n",
        "# Performing 2dconvolution followed Maxpoooling operation\n",
        "model.add(Convolution2D(10, 1, activation='relu')) #24                    # channel dimensions = 24x24x10    and Receptive field = 7x7 using 1x1 kernel\n",
        "model.add(MaxPooling2D(pool_size=(2, 2)))#12                                 # channel dimensions = 12x12x10    and Receptive field = 14x14\n",
        "\n",
        "# Performing 2dconvolution followed by BatchNormalization and Dropout\n",
        "model.add(Convolution2D(16, 3, activation='relu'))#10                     # channel dimensions = 10x10x16    and Receptive field = 16x16\n",
        "model.add(BatchNormalization())\n",
        "model.add(Dropout(0.1))\n",
        "\n",
        "# Performing 2dconvolution followed by BatchNormalization and Dropout\n",
        "model.add(Convolution2D(16, 3,strides=2 ,activation='relu'))#8                      # channel dimensions = 4x4x16    and Receptive field = 18x18\n",
        "model.add(BatchNormalization())\n",
        "model.add(Dropout(0.1))\n",
        "\n",
        "# Performing 2dconvolution followed by BatchNormalization and Dropout\n",
        "model.add(Convolution2D(16, 3, activation='relu'))#3                      # channel dimensions = 2x2x16    and Receptive field = 20x20\n",
        "model.add(BatchNormalization())\n",
        "model.add(Dropout(0.1))\n",
        "\n",
        "# Performing 2dconvolution followed by BatchNormalization and Dropout\n",
        "#model.add(Convolution2D(16, 3, activation='relu'))#4                      # channel dimensions = 4x4x16    and Receptive field = 22x22\n",
        "#model.add(BatchNormalization())\n",
        "#model.add(Dropout(0.1))\n",
        "\n",
        "# Performing only 2dconvolution at the last convolution layer(no batchnormalization and dropout)\n",
        "model.add(Convolution2D(10, 2))                                           # using 1x1 kernel to see the complete image\n",
        "\n",
        "# Here we are Flateening our dat i.e making it one dimensional which we will feed to the network.\n",
        "model.add(Flatten())\n",
        "#Using softmax activation function at the last layer which is used for multi class classification\n",
        "model.add(Activation('softmax'))"
      ],
      "execution_count": null,
      "outputs": []
    },
    {
      "cell_type": "code",
      "metadata": {
        "id": "-yFYW_Ms1sZL"
      },
      "source": [
        "model.summary()"
      ],
      "execution_count": null,
      "outputs": []
    },
    {
      "cell_type": "code",
      "metadata": {
        "id": "eXhNrlT_1-77"
      },
      "source": [
        "# We are importing the Adam Optimizer\n",
        "from tensorflow.keras.optimizers import Adam\n",
        "\n",
        "# We are importing the learningratescheduler callback\n",
        "from tensorflow.keras.callbacks import LearningRateScheduler\n",
        "#Creating the \"scheduler\" function with two arguments i.e learningrate and epoch\n",
        "def scheduler(epoch, lr):\n",
        "  return round(0.003 * 1/(1 + 0.319 * epoch), 10)\n",
        "\n",
        "#\tLearningRate = LearningRate * 1/(1 + decay * epoch) here decay is 0.319 and epoch is 10.\n",
        "\n",
        "# here we are compiling our model and using 'categorical_crossentropy' as our loss function and adam as our optimizer with learning rate =0.003 and metrics is accuracy\n",
        "model.compile(loss='categorical_crossentropy', optimizer=Adam(lr=0.003), metrics=['accuracy'])\n",
        "\n",
        "# Here we are traing our model using the data and using batch size of 128,number of epochs are 20 and using verbose=1 for printing out all the results.\n",
        "# In the callbacks parameter we are using the LearningRateScheduler which takes two arguments scheduler function which we built earlier to reduce the learning rate in each decay and verbose =1\n",
        "model.fit(X_train, Y_train, batch_size=128, epochs=20, verbose=1, validation_data=(X_test, Y_test), callbacks=[LearningRateScheduler(scheduler, verbose=1)])"
      ],
      "execution_count": null,
      "outputs": []
    },
    {
      "cell_type": "code",
      "metadata": {
        "id": "p2Ls2qNS2r9l"
      },
      "source": [
        "# Here we are evaluating our model using the test data and saving the results in score variable\n",
        "score = model.evaluate(X_test, Y_test, verbose=0)"
      ],
      "execution_count": null,
      "outputs": []
    },
    {
      "cell_type": "code",
      "metadata": {
        "id": "aWh_isYn44lj"
      },
      "source": [
        "#printing the score or evaluation results\n",
        "print(score)"
      ],
      "execution_count": null,
      "outputs": []
    },
    {
      "cell_type": "code",
      "metadata": {
        "id": "3n0-3qh347RY"
      },
      "source": [
        "#Finally we are doing the predictions\n",
        "y_pred = model.predict(X_test)"
      ],
      "execution_count": null,
      "outputs": []
    },
    {
      "cell_type": "code",
      "metadata": {
        "id": "NOos0VfE4_DH"
      },
      "source": [
        "# Showing the results of predictions\n",
        "print(y_pred[:9])\n",
        "print(y_test[:9])"
      ],
      "execution_count": null,
      "outputs": []
    },
    {
      "cell_type": "code",
      "metadata": {
        "id": "Jdc1Zug45Bod"
      },
      "source": [
        ""
      ],
      "execution_count": null,
      "outputs": []
    }
  ]
}